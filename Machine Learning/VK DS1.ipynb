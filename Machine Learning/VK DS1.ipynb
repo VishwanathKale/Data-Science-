{
 "cells": [
  {
   "cell_type": "code",
   "execution_count": null,
   "id": "0c7d5b1e-6785-483c-a16b-45b64df27356",
   "metadata": {},
   "outputs": [],
   "source": []
  },
  {
   "cell_type": "code",
   "execution_count": 2,
   "id": "d2182b4a-f174-4bdb-9809-b056cbec479b",
   "metadata": {},
   "outputs": [
    {
     "name": "stdout",
     "output_type": "stream",
     "text": [
      "Hello Data Science World!\n"
     ]
    }
   ],
   "source": [
    "print (\"Hello Data Science World!\")"
   ]
  },
  {
   "cell_type": "code",
   "execution_count": 1,
   "id": "70215991-f325-4058-a332-f4e500381dea",
   "metadata": {},
   "outputs": [
    {
     "name": "stdout",
     "output_type": "stream",
     "text": [
      "My Name is Vishwanath Kale\n"
     ]
    }
   ],
   "source": [
    "print (\"My Name is Vishwanath Kale\")"
   ]
  },
  {
   "cell_type": "code",
   "execution_count": 2,
   "id": "6c10617e-e007-421d-9263-47f1ef341936",
   "metadata": {},
   "outputs": [
    {
     "data": {
      "text/plain": [
       "50"
      ]
     },
     "execution_count": 2,
     "metadata": {},
     "output_type": "execute_result"
    }
   ],
   "source": [
    "24+26 "
   ]
  },
  {
   "cell_type": "code",
   "execution_count": null,
   "id": "79f861b0-691f-496e-bad6-30842cfd6238",
   "metadata": {},
   "outputs": [],
   "source": [
    "24*5"
   ]
  }
 ],
 "metadata": {
  "kernelspec": {
   "display_name": "Python 3 (ipykernel)",
   "language": "python",
   "name": "python3"
  },
  "language_info": {
   "codemirror_mode": {
    "name": "ipython",
    "version": 3
   },
   "file_extension": ".py",
   "mimetype": "text/x-python",
   "name": "python",
   "nbconvert_exporter": "python",
   "pygments_lexer": "ipython3",
   "version": "3.11.7"
  }
 },
 "nbformat": 4,
 "nbformat_minor": 5
}
